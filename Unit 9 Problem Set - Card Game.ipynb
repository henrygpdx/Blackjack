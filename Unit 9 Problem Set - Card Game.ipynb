{
 "cells": [
  {
   "cell_type": "markdown",
   "metadata": {
    "collapsed": false
   },
   "source": [
    "# Unit 9 Problem Set\n",
    "\n",
    "In this problem set we will build a set of classes that will be used to play the card game Blackjack. If you have never played, then you can find the simple rules here: https://www.bicyclecards.com/how-to-play/blackjack/"
   ]
  },
  {
   "cell_type": "markdown",
   "metadata": {
    "collapsed": false
   },
   "source": [
    "## The Card class"
   ]
  },
  {
   "cell_type": "markdown",
   "metadata": {
    "collapsed": false
   },
   "source": [
    "1.Think about a deck of cards. What do you need to know in order to tell one card from another?\n",
    "\n",
    "There are thirteen different ranks, from Ace to King. There are four different suits: Clubs, Diamonds, Hearts, and Spades. So, to know everything about a single card you need its rank and its suit. In card games such as blackjack, where the cards are worth a certain number of points, it is also helpful to have a third variable, called value that is an integer related to a card's rank. The values of the cards are [2,3,4,5,6,7,8,9,10,10,10,10,11], respectively (meaning, the Jack, King, Queen, and 10 have a value of 10 and the Ace has a value of 11).\n",
    "\n",
    "Create a **class** named **Card**. Include three **attributes**: **rank** and **suit** (both strings) and **value** (int). Don't forget the initializing (**init**) and the toString (**str**) methods.\n",
    "\n",
    "Test that you can create a few cards. Make several instances of different cards: try Ace of Spades and Eight of Hearts."
   ]
  },
  {
   "cell_type": "code",
   "execution_count": 41,
   "metadata": {
    "collapsed": false
   },
   "outputs": [
    {
     "name": "stdout",
     "output_type": "stream",
     "text": [
      "The Ace of Spades has a value of 11.\n",
      "The 8 of Hearts has a value of 8.\n"
     ]
    }
   ],
   "source": [
    "#insert 1\n",
    "class Card:\n",
    "    def __init__(self, rank, suit, value):\n",
    "        self.rank = rank\n",
    "        self.suit = suit\n",
    "        self.value = value\n",
    "\n",
    "    def __str__(self):\n",
    "        return f'The {self.rank} of {self.suit} has a value of {self.value}.'\n",
    "\n",
    "\n",
    "ace_spades = Card('Ace', 'Spades', 11)\n",
    "print(ace_spades)\n",
    "eight_hearts = Card('8', 'Hearts', 8)\n",
    "print(eight_hearts)"
   ]
  },
  {
   "cell_type": "markdown",
   "metadata": {
    "collapsed": false
   },
   "source": [
    "## The Deck class"
   ]
  },
  {
   "cell_type": "markdown",
   "metadata": {
    "collapsed": false
   },
   "source": [
    "2.A typical deck of cards has one of each rank in one of each suit, for a total of 52 cards. Create a **class** named **Deck**. The **attribute** of our Deck class will be a single list of 52 Card objects named **cards**.\n",
    "\n",
    "To do this, you will need to send three lists to the initializing method as input: ranks, suits, and values. Then use a double for-loop to create the Cards (by calling the initializing method of the Card Class) and append them to the list called cards. To help, here are three lists that you can copy and paste in your code below:\n",
    "\n",
    "ranks = ['Two','Three','Four','Five','Six','Seven','Eight','Nine','Ten','Jack','Queen','King','Ace']\n",
    "\n",
    "suits = ['Clubs', 'Diamonds', 'Hearts', 'Spades']\n",
    "\n",
    "values = [2,3,4,5,6,7,8,9,10,10,10,10,11]"
   ]
  },
  {
   "cell_type": "code",
   "execution_count": 42,
   "metadata": {
    "collapsed": false
   },
   "outputs": [
    {
     "name": "stdout",
     "output_type": "stream",
     "text": [
      "First card: The Two of Clubs has a value of 2.\n",
      "There are now 51 cards in the deck.\n"
     ]
    }
   ],
   "source": [
    "#insert 2\n",
    "import random as r\n",
    "\n",
    "\n",
    "class Deck:\n",
    "    def __init__(self, ranks, suits, values):\n",
    "        self.cards = []\n",
    "        for suit in suits:\n",
    "            for i in range(len(ranks)):\n",
    "                self.cards.append(Card(ranks[i], suit, values[i]))\n",
    "\n",
    "    def shuffle(self):\n",
    "        r.shuffle(self.cards)\n",
    "\n",
    "    def get_top_card(self):\n",
    "        top_card = self.cards.pop(0)\n",
    "        return top_card\n",
    "    \n",
    "    def __len__(self):\n",
    "        return len(self.cards)\n",
    "\n",
    "    def __str__(self):\n",
    "        return f'The cards are {self.cards}'\n",
    "\n",
    "\n",
    "first_deck = Deck(['Two', 'Three', 'Four', 'Five', 'Six', 'Seven', 'Eight', 'Nine', 'Ten', 'Jack', 'Queen', 'King', 'Ace'], ['Clubs', 'Diamonds', 'Hearts', 'Spades'], [2, 3, 4, 5, 6, 7, 8, 9, 10, 10, 10, 10, 11])\n",
    "print('First card:', first_deck.get_top_card())\n",
    "print('There are now', len(first_deck.cards), 'cards in the deck.')"
   ]
  },
  {
   "cell_type": "markdown",
   "metadata": {
    "collapsed": false
   },
   "source": [
    "3.One obvious **method** that you will need is a **shuffle()** method that shuffles the deck **in place**. This method should reorder the deck randomly. There are many ways to do this, but luckily, the Python random package has a shuffle method built in that shuffles a list in place!\n",
    "\n",
    "Finally, create a method called **get_top_card()**. This method should **return** the card with index 0, and remove it from the deck **in place**."
   ]
  },
  {
   "cell_type": "code",
   "execution_count": 43,
   "metadata": {
    "collapsed": false
   },
   "outputs": [
   ],
   "source": [
    "#edit your code in the cell above to reflect these changes"
   ]
  },
  {
   "cell_type": "markdown",
   "metadata": {
    "collapsed": false
   },
   "source": [
    "4.Use the cell below to test your deck method. Hint: check the length of your deck to make sure that the get_top_card method is removing a card from the deck. Also check that your deck is getting randomly shuffled. Insert some test code below."
   ]
  },
  {
   "cell_type": "code",
   "execution_count": 44,
   "metadata": {
    "collapsed": false
   },
   "outputs": [
    {
     "name": "stdout",
     "output_type": "stream",
     "text": [
      "After shuffle: The Seven of Hearts has a value of 7.\n",
      "The King of Spades has a value of 10.\n"
     ]
    }
   ],
   "source": [
    "#insert 4\n",
    "a_deck = Deck(['Two', 'Three', 'Four', 'Five', 'Six', 'Seven', 'Eight', 'Nine', 'Ten', 'Jack', 'Queen', 'King', 'Ace'], ['Clubs', 'Diamonds', 'Hearts', 'Spades'], [2, 3, 4, 5, 6, 7, 8, 9, 10, 10, 10, 10, 11])\n",
    "if len(a_deck.cards) != 52:\n",
    "    print('error')\n",
    "\n",
    "a_deck.shuffle()\n",
    "print('After shuffle:', a_deck.get_top_card())\n",
    "print(a_deck.get_top_card())\n",
    "\n",
    "if len(a_deck.cards) != 50:\n",
    "    print('error')"
   ]
  },
  {
   "cell_type": "markdown",
   "metadata": {
    "collapsed": false
   },
   "source": [
    "## The Blackjack class"
   ]
  },
  {
   "cell_type": "markdown",
   "metadata": {
    "collapsed": false
   },
   "source": [
    "When a 'single' program is built from several classes, it is common to have a runner class that is not intended to create objects. We will name our **runner class**, **Blackjack**. Since we will not be creating instances of this class, we do not need an initializing method.\n",
    "\n",
    "We will need **methods** as follows (notice that they are named so that anyone will know what they do):\n",
    "\n",
    "**player_turn()**, **computer_turn()**, **deal()**, **check_bust()**, **check_blackjack()**, **find_winner()**, and finally a **main** method to control the order of when methods will be called. See below for an outline of the main method. Your job is to finish the main and write the rest of the methods."
   ]
  },
  {
   "cell_type": "code",
   "execution_count": 50,
   "metadata": {
    "cocalc": {
     "outputs": {
      "1": {
       "name": "input",
       "opts": {
        "password": false,
        "prompt": "Take another card? (hit or stand) "
       },
       "output_type": "stream"
      }
     }
    },
    "collapsed": false
   },
   "outputs": [
    {
     "name": "stdout",
     "output_type": "stream",
     "text": [
      "Your draw: The Three of Clubs has a value of 3.\n",
      "Computer drew a card.\n",
      "Your draw: The King of Hearts has a value of 10.\n",
      "Computer draw: The Four of Clubs has a value of 4.\n",
      "Your sum is: 13\n"
     ]
    },
    {
     "name": "stdout",
     "output_type": "stream",
     "text": "Take another card? (hit or stand)  "
    }
   ],
   "source": [
    "class Blackjack:\n",
    "    def deal(self, deck, tally):\n",
    "        '''deals a single card and returns the new tally of all that player/'s cards'''\n",
    "        new_card = deck.get_top_card()\n",
    "        tally += new_card.value\n",
    "        if len(deck) != 50: # this if/else statement hides the computer's first card from the player (drawn face down), 50 b/c card has already been popped from the deck\n",
    "            print(new_card)\n",
    "        else:\n",
    "            print('Computer drew a card.')\n",
    "        return tally\n",
    "\n",
    "    def check_bust(self, tally):\n",
    "        '''returns True or False based on whether the tally is greater than 21'''\n",
    "        if tally > 21:\n",
    "            return 'Bust'\n",
    "        return ''\n",
    "\n",
    "    def check_blackjack(self, tally):\n",
    "        '''returns True or False based on whether the tally is equal to 21'''\n",
    "        if tally == 21:\n",
    "            return 'Blackjack!'\n",
    "        return ''\n",
    "\n",
    "    #player method\n",
    "    def player_turn(self, deck, player_sum):\n",
    "        '''Continues to ask the user if they want to choose a new card (and then chooses a card)\n",
    "            until the player busts or chooses to stop receiving more cards. It then returns the player_sum.'''\n",
    "        choice = input('Take another card? (hit or stand) ')\n",
    "        while choice.lower() == 'hit':\n",
    "            print('Your draw: ', end='')\n",
    "            player_sum = self.deal(my_deck, player_sum)\n",
    "            print('Your sum is:', player_sum)\n",
    "            if self.check_blackjack(player_sum):\n",
    "                break\n",
    "            if self.check_bust(player_sum):\n",
    "                break\n",
    "            choice = input('Take another card? (hit or stand) ')\n",
    "        print(self.check_blackjack(player_sum), self.check_bust(player_sum))\n",
    "        return player_sum\n",
    "\n",
    "    #computer method\n",
    "    def computer_turn(self, deck, comp_sum):\n",
    "        '''Continues to choose a new card\n",
    "            until the computer busts or the comp_sum becomes 17 or higher. It then returns the comp_sum.'''\n",
    "        while comp_sum <= 16:\n",
    "            print('Computer draw: ', end='')\n",
    "            comp_sum = self.deal(my_deck, comp_sum)\n",
    "            if self.check_blackjack(comp_sum):\n",
    "                print('Computer Blackjack!')\n",
    "                break\n",
    "            if self.check_bust(comp_sum):\n",
    "                print('Computer Bust!')\n",
    "                break\n",
    "        return comp_sum\n",
    "\n",
    "    def find_winner(self, player_sum, comp_sum):\n",
    "        '''Prints Player Wins!, Computer Wins!, or Tie! based on a comparison of player_sum and comp_sum.'''\n",
    "        print('computer', comp_sum, 'player', player_sum)\n",
    "        if comp_sum > 21 and player_sum > 21:\n",
    "            print('Both players busted. Tie game!')\n",
    "        elif comp_sum > 21 and player_sum < 21:\n",
    "            print('Computer busted. Player wins!')\n",
    "        elif player_sum > 21:\n",
    "            print('Player busted. Computer wins!')\n",
    "        else:\n",
    "            if player_sum > comp_sum:\n",
    "                print('Player wins!')\n",
    "            elif player_sum == comp_sum:\n",
    "                print('Tie!')\n",
    "            else:\n",
    "                print('Computer Wins!')\n",
    "\n",
    "    def main(self):\n",
    "\n",
    "        #create a runner class\n",
    "        game = Blackjack()\n",
    "\n",
    "        #we will need these lists below\n",
    "        ranks = [\n",
    "            'Two', 'Three', 'Four', 'Five', 'Six', 'Seven', 'Eight', 'Nine',\n",
    "            'Ten', 'Jack', 'Queen', 'King', 'Ace'\n",
    "        ]\n",
    "        suits = ['Clubs', 'Diamonds', 'Hearts', 'Spades']\n",
    "        values = [2, 3, 4, 5, 6, 7, 8, 9, 10, 10, 10, 10, 11]\n",
    "\n",
    "        #create a deck object\n",
    "        my_deck = Deck(ranks, suits, values)\n",
    "        #shuffle the deck\n",
    "        my_deck.shuffle()\n",
    "        #initialize a player_sum and comp_sum to zero\n",
    "        player_sum = 0\n",
    "        comp_sum = 0\n",
    "#         print(len(my_deck))\n",
    "        #deal the first four cards (alternating player/comp/player/comp)\n",
    "        print('Your draw: ', end = '')\n",
    "        player_sum = self.deal(my_deck, player_sum)\n",
    "        comp_sum = self.deal(my_deck, comp_sum)\n",
    "        print('Your draw: ', end = '')\n",
    "        player_sum = self.deal(my_deck, player_sum)\n",
    "        print('Computer draw: ', end='')\n",
    "        comp_sum = self.deal(my_deck, comp_sum)\n",
    "        print('Your sum is:', player_sum)\n",
    "#         print('Computer sum is:', comp_sum)\n",
    "        #let the player take their turn (meaning they can choose more cards until they choose to stop or bust)\n",
    "        player_sum = self.player_turn(my_deck, player_sum)\n",
    "        \n",
    "        #if the player's sum doesn't exactly equal to 21, let the computer take its turn (meaning it can choose more cards until it chooses to stop or bust)\n",
    "        if player_sum <= 21:\n",
    "            comp_sum = self.computer_turn(my_deck, comp_sum)\n",
    "        print('Computer sum is:', comp_sum)\n",
    "        #calculate who the winner is\n",
    "        self.find_winner(player_sum, comp_sum)\n",
    "\n",
    "\n",
    "# run the main program\n",
    "if __name__ == '__main__':\n",
    "    Blackjack().main()"
   ]
  },
  {
   "cell_type": "code",
   "execution_count": 0,
   "metadata": {
    "collapsed": false
   },
   "outputs": [
   ],
   "source": [
   ]
  },
  {
   "cell_type": "code",
   "execution_count": 0,
   "metadata": {
    "collapsed": false
   },
   "outputs": [
   ],
   "source": [
   ]
  }
 ],
 "metadata": {
  "kernelspec": {
   "display_name": "Python 3 (Ubuntu Linux)",
   "language": "python",
   "name": "python3"
  },
  "language_info": {
   "codemirror_mode": {
    "name": "ipython",
    "version": 3
   },
   "file_extension": ".py",
   "mimetype": "text/x-python",
   "name": "python",
   "nbconvert_exporter": "python",
   "pygments_lexer": "ipython3",
   "version": "3.6.7"
  }
 },
 "nbformat": 4,
 "nbformat_minor": 0
}